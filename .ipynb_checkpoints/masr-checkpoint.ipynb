{
 "cells": [
  {
   "cell_type": "code",
   "execution_count": 1,
   "metadata": {},
   "outputs": [],
   "source": [
    "import os\n",
    "\n",
    "import numpy as np\n",
    "import pandas as pd\n",
    "from pydub import AudioSegment"
   ]
  },
  {
   "cell_type": "code",
   "execution_count": 2,
   "metadata": {},
   "outputs": [],
   "source": [
    "DATA = 'data/'\n",
    "PROCESSED_DATA = 'processed_data/'\n",
    "PREFERED_FILE_FORMAT = 'wav'"
   ]
  },
  {
   "cell_type": "code",
   "execution_count": 3,
   "metadata": {},
   "outputs": [],
   "source": [
    "data_file_paths = ['data/'+f for f in os.listdir(path='data')]\n",
    "file_formats = set([f.split('.')[1]\n",
    "                    for path in data_file_paths for f in os.listdir(path=path)])"
   ]
  },
  {
   "cell_type": "markdown",
   "metadata": {},
   "source": [
    "##### Install depenencies (tested on ubuntu 19.10)\n",
    "!pip install pydub\n",
    "<br>\n",
    "!apt-get install ffmpeg"
   ]
  },
  {
   "cell_type": "code",
   "execution_count": 4,
   "metadata": {},
   "outputs": [],
   "source": [
    "\"\"\"ALL PATHS ARE FROM MASR DIRECTORY\"\"\"\n",
    "\n",
    "\n",
    "def to_wav(src, dst):\n",
    "    \"\"\" Convert single file to .wav\n",
    "        Params:\n",
    "        src - (str) full path to file to convert\n",
    "        dst - (str) full path and file name where to store converted \n",
    "    \"\"\"\n",
    "    type_ = src.split('.')[1]\n",
    "    sound = AudioSegment.from_file(src, type_)\n",
    "    sound.export(dst, format=PREFERED_FILE_FORMAT)\n",
    "\n",
    "\n",
    "def convert_all_files_to_wav(src_dir, dst_dir):\n",
    "    \"\"\" Convert all files in dir_name directory\n",
    "        to .wav formats\n",
    "\n",
    "        Params:\n",
    "        src_dir - (str) directory from where to convert files\n",
    "        dst_dir - (str) directory to where to store converted files\n",
    "\n",
    "    \"\"\"\n",
    "    unconvertables = []\n",
    "    for fname in os.listdir(path=src_dir):\n",
    "        src = src_dir + '/' + fname\n",
    "        dst = dst_dir + '/' + fname.split('.')[0] + '.' + PREFERED_FILE_FORMAT\n",
    "        try:\n",
    "            to_wav(src, dst)\n",
    "        except:\n",
    "            unconvertables.append(src)\n",
    "    return unconvertables\n",
    "\n",
    "\n",
    "def convert_all_folders_to_wav(sound_dirs):\n",
    "    \"\"\" Converts all files from all sound directories\n",
    "\n",
    "        Params:\n",
    "        sound_dirs - (list of strs) all dir paths from where to convert\n",
    "    \"\"\"\n",
    "    all_unconvertables = []\n",
    "    for dir_name in sound_dirs:\n",
    "        src_dir = DATA + dir_name\n",
    "        dst_dir = PROCESSED_DATA + dir_name\n",
    "\n",
    "        if not os.path.isdir(dst_dir):\n",
    "            os.mkdir(dst_dir)\n",
    "        unconvertables = convert_all_files_to_wav(src_dir, dst_dir)\n",
    "        all_unconvertables.extend(unconvertables)\n",
    "    return all_unconvertables"
   ]
  },
  {
   "cell_type": "code",
   "execution_count": 6,
   "metadata": {},
   "outputs": [],
   "source": [
    "### Uncomment this to convert and load all sound files ###\n",
    "\n",
    "# unconvertables = convert_all_folders_to_wav([str(i) for i in range(1, 6)])\n",
    "# len(unconvertables)"
   ]
  },
  {
   "cell_type": "code",
   "execution_count": null,
   "metadata": {},
   "outputs": [],
   "source": []
  },
  {
   "cell_type": "code",
   "execution_count": null,
   "metadata": {},
   "outputs": [],
   "source": []
  },
  {
   "cell_type": "code",
   "execution_count": null,
   "metadata": {},
   "outputs": [],
   "source": []
  }
 ],
 "metadata": {
  "kernelspec": {
   "display_name": "Python 3",
   "language": "python",
   "name": "python3"
  },
  "language_info": {
   "codemirror_mode": {
    "name": "ipython",
    "version": 3
   },
   "file_extension": ".py",
   "mimetype": "text/x-python",
   "name": "python",
   "nbconvert_exporter": "python",
   "pygments_lexer": "ipython3",
   "version": "3.7.4"
  }
 },
 "nbformat": 4,
 "nbformat_minor": 2
}
