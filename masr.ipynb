{
 "cells": [
  {
   "cell_type": "code",
   "execution_count": 12,
   "metadata": {},
   "outputs": [],
   "source": [
    "import os\n",
    "import warnings\n",
    "import wave\n",
    "\n",
    "import IPython.display as ipd\n",
    "import librosa\n",
    "import matplotlib.pyplot as plt\n",
    "import numpy as np\n",
    "import pandas as pd\n",
    "from pydub import AudioSegment\n",
    "from scipy.io import wavfile\n",
    "\n",
    "warnings.filterwarnings(\"ignore\")"
   ]
  },
  {
   "cell_type": "code",
   "execution_count": 2,
   "metadata": {},
   "outputs": [],
   "source": [
    "DATA = 'data/'\n",
    "PROCESSED_DATA = 'processed_data/'\n",
    "PREFERED_FILE_FORMAT = 'wav'"
   ]
  },
  {
   "cell_type": "code",
   "execution_count": 3,
   "metadata": {},
   "outputs": [],
   "source": [
    "data_file_paths = ['data/'+f for f in os.listdir(path='data')]\n",
    "file_formats = set([f.split('.')[1]\n",
    "                    for path in data_file_paths for f in os.listdir(path=path)])"
   ]
  },
  {
   "cell_type": "markdown",
   "metadata": {},
   "source": [
    "##### Install depenencies (tested on ubuntu 19.10)\n",
    "!pip install pydub\n",
    "<br>\n",
    "!apt-get install ffmpeg\n",
    "<br>\n",
    "!pip install librosa"
   ]
  },
  {
   "cell_type": "code",
   "execution_count": 4,
   "metadata": {},
   "outputs": [],
   "source": [
    "\"\"\"ALL PATHS ARE FROM MASR DIRECTORY\"\"\"\n",
    "\n",
    "\n",
    "def to_wav(src, dst):\n",
    "    \"\"\" Convert single file to .wav\n",
    "        Params:\n",
    "        src - (str) full path to file to convert\n",
    "        dst - (str) full path and file name where to store converted \n",
    "    \"\"\"\n",
    "    type_ = src.split('.')[1]\n",
    "    sound = AudioSegment.from_file(src, type_)\n",
    "    sound.export(dst, format=PREFERED_FILE_FORMAT)\n",
    "\n",
    "\n",
    "def convert_all_files_to_wav(src_dir, dst_dir):\n",
    "    \"\"\" Convert all files in dir_name directory\n",
    "        to .wav formats\n",
    "\n",
    "        Params:\n",
    "        src_dir - (str) directory from where to convert files\n",
    "        dst_dir - (str) directory to where to store converted files\n",
    "\n",
    "    \"\"\"\n",
    "    unconvertables = []\n",
    "    for fname in os.listdir(path=src_dir):\n",
    "        src = src_dir + '/' + fname\n",
    "        dst = dst_dir + '/' + fname.split('.')[0] + '.' + PREFERED_FILE_FORMAT\n",
    "        try:\n",
    "            to_wav(src, dst)\n",
    "        except:\n",
    "            unconvertables.append(src)\n",
    "    return unconvertables\n",
    "\n",
    "\n",
    "def convert_all_folders_to_wav(sound_dirs):\n",
    "    \"\"\" Converts all files from all sound directories\n",
    "\n",
    "        Params:\n",
    "        sound_dirs - (list of strs) all dir paths from where to convert\n",
    "    \"\"\"\n",
    "    all_unconvertables = []\n",
    "    for dir_name in sound_dirs:\n",
    "        src_dir = DATA + dir_name\n",
    "        dst_dir = PROCESSED_DATA + dir_name\n",
    "\n",
    "        if not os.path.isdir(dst_dir):\n",
    "            os.mkdir(dst_dir)\n",
    "        unconvertables = convert_all_files_to_wav(src_dir, dst_dir)\n",
    "        all_unconvertables.extend(unconvertables)\n",
    "    return all_unconvertables"
   ]
  },
  {
   "cell_type": "code",
   "execution_count": 6,
   "metadata": {},
   "outputs": [],
   "source": [
    "### Uncomment this to convert and load all sound files ###\n",
    "\n",
    "# unconvertables = convert_all_folders_to_wav([str(i) for i in range(1, 6)])\n",
    "# len(unconvertables)"
   ]
  },
  {
   "cell_type": "markdown",
   "metadata": {},
   "source": [
    "Wav files are 2 type\n",
    "* A mono file has one channel.\n",
    "* A stereo file has two channels - left and right.\n",
    "\n",
    "Some of files are mono and some are stereo so this visualizes both types"
   ]
  },
  {
   "cell_type": "code",
   "execution_count": 67,
   "metadata": {},
   "outputs": [],
   "source": [
    "DEFAULT_SOUND = PROCESSED_DATA+'1/zviad-noza-1e.wav'\n",
    "\n",
    "\n",
    "def visualize_sound(file=DEFAULT_SOUND, figsize=(15, 8)):\n",
    "    \"\"\" Visualizes wav file x axis is time and y is amplitude\n",
    "\n",
    "        Params:\n",
    "        file    - (str) wav file name to vizualize\n",
    "        figsize - (tuple of 2 ints) plot's figure size \n",
    "    \"\"\"\n",
    "    with wave.open(file, 'r') as wav_file:\n",
    "        # Extract Raw Audio from Wav File\n",
    "        signal = np.fromstring(wav_file.readframes(-1), 'Int16')\n",
    "\n",
    "        # Split the data into channels\n",
    "        num_channels = wav_file.getnchannels()\n",
    "        channels = [signal[channel::num_channels]\n",
    "                    for channel in range(num_channels)]\n",
    "\n",
    "        # Get time from indices\n",
    "        sound_length = len(signal)/len(channels)/wav_file.getframerate()\n",
    "        time_ = np.linspace(0, sound_length, num=len(signal)/len(channels))\n",
    "        # print('sound length - ', sound_length)\n",
    "        # Plot\n",
    "        plt.figure(1, figsize=figsize)\n",
    "        plt.title('Sound Wave')\n",
    "        plt.xlabel('Time')\n",
    "        plt.ylabel('Amplitude')\n",
    "\n",
    "        for channel in channels:\n",
    "            plt.plot(time_, channel)\n",
    "        plt.show()"
   ]
  },
  {
   "cell_type": "code",
   "execution_count": 68,
   "metadata": {
    "scrolled": true
   },
   "outputs": [
    {
     "data": {
      "image/png": "[encoded data removed]",
      "text/plain": [
       "<Figure size 1080x576 with 1 Axes>"
      ]
     },
     "metadata": {
      "needs_background": "light"
     },
     "output_type": "display_data"
    }
   ],
   "source": [
    "visualize_sound()"
   ]
  },
  {
   "cell_type": "code",
   "execution_count": null,
   "metadata": {},
   "outputs": [],
   "source": []
  },
  {
   "cell_type": "code",
   "execution_count": null,
   "metadata": {},
   "outputs": [],
   "source": []
  },
  {
   "cell_type": "code",
   "execution_count": null,
   "metadata": {},
   "outputs": [],
   "source": []
  },
  {
   "cell_type": "code",
   "execution_count": null,
   "metadata": {},
   "outputs": [],
   "source": []
  }
 ],
 "metadata": {
  "kernelspec": {
   "display_name": "Python 3",
   "language": "python",
   "name": "python3"
  },
  "language_info": {
   "codemirror_mode": {
    "name": "ipython",
    "version": 3
   },
   "file_extension": ".py",
   "mimetype": "text/x-python",
   "name": "python",
   "nbconvert_exporter": "python",
   "pygments_lexer": "ipython3",
   "version": "3.7.4"
  }
 },
 "nbformat": 4,
 "nbformat_minor": 2
}
